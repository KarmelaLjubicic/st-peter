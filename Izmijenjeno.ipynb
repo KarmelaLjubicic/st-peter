{
 "cells": [
  {
   "cell_type": "code",
   "execution_count": 1,
   "metadata": {},
   "outputs": [],
   "source": [
    "import warnings\n",
    "warnings.filterwarnings('ignore')\n",
    "import operator\n",
    "import functools\n",
    "import tensorflow as tf\n",
    "import numpy as np\n",
    "from sklearn.metrics import *\n",
    "import pandas as pd\n",
    "from math import *\n",
    "from sklearn.preprocessing import StandardScaler, Imputer\n",
    "from sklearn.model_selection import train_test_split\n",
    "from sklearn.utils import shuffle\n",
    "import matplotlib.pyplot as plt"
   ]
  },
  {
   "cell_type": "markdown",
   "metadata": {},
   "source": [
    "### Titanic"
   ]
  },
  {
   "cell_type": "markdown",
   "metadata": {},
   "source": [
    "#### Priprema Titanic skupa podataka"
   ]
  },
  {
   "cell_type": "code",
   "execution_count": 2,
   "metadata": {},
   "outputs": [],
   "source": [
    "def titanic_dataset():\n",
    "    dataset = pd.read_csv(\"data\\\\Titanic.csv\")\n",
    "    del dataset[\"name\"]\n",
    "    del dataset[\"cabin\"]\n",
    "    del dataset[\"ticket\"]\n",
    "    del dataset[\"home.dest\"]\n",
    "    del dataset[\"body\"]\n",
    "    del dataset[\"boat\"]\n",
    "    \n",
    "    for column in [\"age\", \"sibsp\", \"parch\", \"fare\"]:\n",
    "        imp = Imputer()\n",
    "        dataset[column] = imp.fit_transform(dataset[column].values.reshape(-1,1))\n",
    "    \n",
    "    dataset[\"sibsp\"] =  dataset[\"sibsp\"].astype(float)\n",
    "    dataset = pd.get_dummies(dataset, columns=[\"sex\", \"embarked\"], prefix=[\"sex\", \"embarked\"])\n",
    "    \n",
    "    need_scaling = [\"pclass\",\"age\", \"sibsp\", \"parch\", \"fare\"]\n",
    "    scaler = StandardScaler()\n",
    "    for feature in need_scaling:\n",
    "        dataset[feature] = scaler.fit_transform(dataset[feature].values.reshape(-1,1))\n",
    "\n",
    "    return dataset"
   ]
  },
  {
   "cell_type": "markdown",
   "metadata": {},
   "source": [
    "#### Provjera omjera preživjelih i umrlih:"
   ]
  },
  {
   "cell_type": "code",
   "execution_count": 3,
   "metadata": {},
   "outputs": [
    {
     "name": "stdout",
     "output_type": "stream",
     "text": [
      "Dataset shape: (1309, 11)\n",
      "Survived rate:\n",
      " 0    809\n",
      "1    500\n",
      "Name: survived, dtype: int64\n"
     ]
    }
   ],
   "source": [
    "dataset = titanic_dataset()\n",
    "print(\"Dataset shape:\", dataset.shape)\n",
    "print(\"Survived rate:\\n\", dataset['survived'].value_counts())"
   ]
  },
  {
   "cell_type": "code",
   "execution_count": 4,
   "metadata": {},
   "outputs": [
    {
     "data": {
      "text/html": [
       "<div>\n",
       "<style scoped>\n",
       "    .dataframe tbody tr th:only-of-type {\n",
       "        vertical-align: middle;\n",
       "    }\n",
       "\n",
       "    .dataframe tbody tr th {\n",
       "        vertical-align: top;\n",
       "    }\n",
       "\n",
       "    .dataframe thead th {\n",
       "        text-align: right;\n",
       "    }\n",
       "</style>\n",
       "<table border=\"1\" class=\"dataframe\">\n",
       "  <thead>\n",
       "    <tr style=\"text-align: right;\">\n",
       "      <th></th>\n",
       "      <th>pclass</th>\n",
       "      <th>survived</th>\n",
       "      <th>age</th>\n",
       "      <th>sibsp</th>\n",
       "      <th>parch</th>\n",
       "      <th>fare</th>\n",
       "      <th>sex_female</th>\n",
       "      <th>sex_male</th>\n",
       "      <th>embarked_C</th>\n",
       "      <th>embarked_Q</th>\n",
       "      <th>embarked_S</th>\n",
       "    </tr>\n",
       "  </thead>\n",
       "  <tbody>\n",
       "    <tr>\n",
       "      <th>0</th>\n",
       "      <td>-1.546098</td>\n",
       "      <td>1</td>\n",
       "      <td>-0.068420</td>\n",
       "      <td>-0.479087</td>\n",
       "      <td>-0.445000</td>\n",
       "      <td>3.442480</td>\n",
       "      <td>1</td>\n",
       "      <td>0</td>\n",
       "      <td>0</td>\n",
       "      <td>0</td>\n",
       "      <td>1</td>\n",
       "    </tr>\n",
       "    <tr>\n",
       "      <th>1</th>\n",
       "      <td>-1.546098</td>\n",
       "      <td>1</td>\n",
       "      <td>-2.248837</td>\n",
       "      <td>0.481288</td>\n",
       "      <td>1.866526</td>\n",
       "      <td>2.286476</td>\n",
       "      <td>0</td>\n",
       "      <td>1</td>\n",
       "      <td>0</td>\n",
       "      <td>0</td>\n",
       "      <td>1</td>\n",
       "    </tr>\n",
       "    <tr>\n",
       "      <th>2</th>\n",
       "      <td>-1.546098</td>\n",
       "      <td>0</td>\n",
       "      <td>-2.164975</td>\n",
       "      <td>0.481288</td>\n",
       "      <td>1.866526</td>\n",
       "      <td>2.286476</td>\n",
       "      <td>1</td>\n",
       "      <td>0</td>\n",
       "      <td>0</td>\n",
       "      <td>0</td>\n",
       "      <td>1</td>\n",
       "    </tr>\n",
       "    <tr>\n",
       "      <th>3</th>\n",
       "      <td>-1.546098</td>\n",
       "      <td>0</td>\n",
       "      <td>0.009230</td>\n",
       "      <td>0.481288</td>\n",
       "      <td>1.866526</td>\n",
       "      <td>2.286476</td>\n",
       "      <td>0</td>\n",
       "      <td>1</td>\n",
       "      <td>0</td>\n",
       "      <td>0</td>\n",
       "      <td>1</td>\n",
       "    </tr>\n",
       "    <tr>\n",
       "      <th>4</th>\n",
       "      <td>-1.546098</td>\n",
       "      <td>0</td>\n",
       "      <td>-0.379021</td>\n",
       "      <td>0.481288</td>\n",
       "      <td>1.866526</td>\n",
       "      <td>2.286476</td>\n",
       "      <td>1</td>\n",
       "      <td>0</td>\n",
       "      <td>0</td>\n",
       "      <td>0</td>\n",
       "      <td>1</td>\n",
       "    </tr>\n",
       "  </tbody>\n",
       "</table>\n",
       "</div>"
      ],
      "text/plain": [
       "     pclass  survived       age     sibsp     parch      fare  sex_female  \\\n",
       "0 -1.546098         1 -0.068420 -0.479087 -0.445000  3.442480           1   \n",
       "1 -1.546098         1 -2.248837  0.481288  1.866526  2.286476           0   \n",
       "2 -1.546098         0 -2.164975  0.481288  1.866526  2.286476           1   \n",
       "3 -1.546098         0  0.009230  0.481288  1.866526  2.286476           0   \n",
       "4 -1.546098         0 -0.379021  0.481288  1.866526  2.286476           1   \n",
       "\n",
       "   sex_male  embarked_C  embarked_Q  embarked_S  \n",
       "0         0           0           0           1  \n",
       "1         1           0           0           1  \n",
       "2         0           0           0           1  \n",
       "3         1           0           0           1  \n",
       "4         0           0           0           1  "
      ]
     },
     "execution_count": 4,
     "metadata": {},
     "output_type": "execute_result"
    }
   ],
   "source": [
    "dataset.head()"
   ]
  },
  {
   "cell_type": "markdown",
   "metadata": {},
   "source": [
    "#### Podjela skupa podataka na \"dobre\" (preživjele) i \"loše\" primjere"
   ]
  },
  {
   "cell_type": "code",
   "execution_count": 5,
   "metadata": {},
   "outputs": [
    {
     "name": "stdout",
     "output_type": "stream",
     "text": [
      "Dataset_good shape: (500, 10)\n",
      "Dataset_bad shape: (809, 10)\n",
      "Survived rate: 0.3819709702062643\n",
      "Deceased rate: 0.6180290297937356\n"
     ]
    }
   ],
   "source": [
    "dataset_good = dataset[dataset['survived'] == 1]\n",
    "dataset_bad = dataset[dataset['survived'] == 0]\n",
    "del dataset_good['survived']\n",
    "del dataset_bad['survived']\n",
    "\n",
    "print(\"Dataset_good shape:\", dataset_good.shape)\n",
    "print(\"Dataset_bad shape:\", dataset_bad.shape)\n",
    "\n",
    "good_rate = 500/1309\n",
    "bad_rate = 809/1309\n",
    "print(\"Survived rate:\", good_rate)\n",
    "print(\"Deceased rate:\", bad_rate)"
   ]
  },
  {
   "cell_type": "markdown",
   "metadata": {},
   "source": [
    "#### Stratificirana podjela - provjera koliko je potrebno \"dobrih\" i \"loših\" primjera u train i test setu. Sampliranje."
   ]
  },
  {
   "cell_type": "code",
   "execution_count": 6,
   "metadata": {},
   "outputs": [
    {
     "name": "stdout",
     "output_type": "stream",
     "text": [
      "Number of survived for train: 385\n",
      "Number of deceased for train: 624\n",
      "\n",
      "Number of survived for test: 115\n",
      "Number of deceased for test: 185\n",
      "(385, 10) (115, 10) (623, 10) (186, 10)\n"
     ]
    }
   ],
   "source": [
    "train_size = 1009\n",
    "test_size = 300\n",
    "print(\"Number of survived for train:\", round(train_size*good_rate))\n",
    "print(\"Number of deceased for train:\", round(train_size*bad_rate))\n",
    "print(\"\\nNumber of survived for test:\", round(test_size*good_rate))\n",
    "print(\"Number of deceased for test:\", round(test_size*bad_rate))\n",
    "\n",
    "sampled_good_tit_train, sampled_good_tit_test = train_test_split(dataset_good, test_size=300/1309)\n",
    "sampled_bad_tit_train, sampled_bad_tit_test = train_test_split(dataset_bad, test_size=300/1309)\n",
    "print(sampled_good_tit_train.shape, sampled_good_tit_test.shape, sampled_bad_tit_train.shape, sampled_bad_tit_test.shape)"
   ]
  },
  {
   "cell_type": "markdown",
   "metadata": {},
   "source": [
    "### Credit Card"
   ]
  },
  {
   "cell_type": "markdown",
   "metadata": {},
   "source": [
    "#### Podjela Credit Card dataseta"
   ]
  },
  {
   "cell_type": "markdown",
   "metadata": {},
   "source": [
    "<img src=\"Untitled_Diagram-copy.png\">"
   ]
  },
  {
   "cell_type": "markdown",
   "metadata": {},
   "source": [
    "#### Priprema Credit card skupa podataka"
   ]
  },
  {
   "cell_type": "code",
   "execution_count": 19,
   "metadata": {},
   "outputs": [],
   "source": [
    "def credit_dataset():\n",
    "    dataset = pd.read_csv(\"data\\\\UCI_Credit_Card.csv\")\n",
    "    del dataset['ID']\n",
    "\n",
    "    need_scaling = list(filter(functools.partial(operator.ne, 'default.payment.next.month'), dataset.columns.tolist()))\n",
    "    scaler = StandardScaler()\n",
    "    for feature in need_scaling:\n",
    "        dataset[feature] = scaler.fit_transform(dataset[feature].values.reshape(-1,1))\n",
    "            \n",
    "    return dataset"
   ]
  },
  {
   "cell_type": "markdown",
   "metadata": {},
   "source": [
    "#### Provjera omjera defaultnih i nedefaultnih klijenata:"
   ]
  },
  {
   "cell_type": "code",
   "execution_count": 20,
   "metadata": {},
   "outputs": [
    {
     "name": "stdout",
     "output_type": "stream",
     "text": [
      "Dataset shape: (30000, 24)\n",
      "Default rate:\n",
      " 0    23364\n",
      "1     6636\n",
      "Name: default.payment.next.month, dtype: int64\n"
     ]
    }
   ],
   "source": [
    "dataset = credit_dataset()\n",
    "print(\"Dataset shape:\", dataset.shape)\n",
    "print(\"Default rate:\\n\", dataset[\"default.payment.next.month\"].value_counts())"
   ]
  },
  {
   "cell_type": "code",
   "execution_count": 21,
   "metadata": {},
   "outputs": [
    {
     "data": {
      "text/html": [
       "<div>\n",
       "<style scoped>\n",
       "    .dataframe tbody tr th:only-of-type {\n",
       "        vertical-align: middle;\n",
       "    }\n",
       "\n",
       "    .dataframe tbody tr th {\n",
       "        vertical-align: top;\n",
       "    }\n",
       "\n",
       "    .dataframe thead th {\n",
       "        text-align: right;\n",
       "    }\n",
       "</style>\n",
       "<table border=\"1\" class=\"dataframe\">\n",
       "  <thead>\n",
       "    <tr style=\"text-align: right;\">\n",
       "      <th></th>\n",
       "      <th>LIMIT_BAL</th>\n",
       "      <th>SEX</th>\n",
       "      <th>EDUCATION</th>\n",
       "      <th>MARRIAGE</th>\n",
       "      <th>AGE</th>\n",
       "      <th>PAY_0</th>\n",
       "      <th>PAY_2</th>\n",
       "      <th>PAY_3</th>\n",
       "      <th>PAY_4</th>\n",
       "      <th>PAY_5</th>\n",
       "      <th>...</th>\n",
       "      <th>BILL_AMT4</th>\n",
       "      <th>BILL_AMT5</th>\n",
       "      <th>BILL_AMT6</th>\n",
       "      <th>PAY_AMT1</th>\n",
       "      <th>PAY_AMT2</th>\n",
       "      <th>PAY_AMT3</th>\n",
       "      <th>PAY_AMT4</th>\n",
       "      <th>PAY_AMT5</th>\n",
       "      <th>PAY_AMT6</th>\n",
       "      <th>default.payment.next.month</th>\n",
       "    </tr>\n",
       "  </thead>\n",
       "  <tbody>\n",
       "    <tr>\n",
       "      <th>0</th>\n",
       "      <td>-1.136720</td>\n",
       "      <td>0.810161</td>\n",
       "      <td>0.185828</td>\n",
       "      <td>-1.057295</td>\n",
       "      <td>-1.246020</td>\n",
       "      <td>1.794564</td>\n",
       "      <td>1.782348</td>\n",
       "      <td>-0.696663</td>\n",
       "      <td>-0.666599</td>\n",
       "      <td>-1.530046</td>\n",
       "      <td>...</td>\n",
       "      <td>-0.672497</td>\n",
       "      <td>-0.663059</td>\n",
       "      <td>-0.652724</td>\n",
       "      <td>-0.341942</td>\n",
       "      <td>-0.227086</td>\n",
       "      <td>-0.296801</td>\n",
       "      <td>-0.308063</td>\n",
       "      <td>-0.314136</td>\n",
       "      <td>-0.293382</td>\n",
       "      <td>1</td>\n",
       "    </tr>\n",
       "    <tr>\n",
       "      <th>1</th>\n",
       "      <td>-0.365981</td>\n",
       "      <td>0.810161</td>\n",
       "      <td>0.185828</td>\n",
       "      <td>0.858557</td>\n",
       "      <td>-1.029047</td>\n",
       "      <td>-0.874991</td>\n",
       "      <td>1.782348</td>\n",
       "      <td>0.138865</td>\n",
       "      <td>0.188746</td>\n",
       "      <td>0.234917</td>\n",
       "      <td>...</td>\n",
       "      <td>-0.621636</td>\n",
       "      <td>-0.606229</td>\n",
       "      <td>-0.597966</td>\n",
       "      <td>-0.341942</td>\n",
       "      <td>-0.213588</td>\n",
       "      <td>-0.240005</td>\n",
       "      <td>-0.244230</td>\n",
       "      <td>-0.314136</td>\n",
       "      <td>-0.180878</td>\n",
       "      <td>1</td>\n",
       "    </tr>\n",
       "    <tr>\n",
       "      <th>2</th>\n",
       "      <td>-0.597202</td>\n",
       "      <td>0.810161</td>\n",
       "      <td>0.185828</td>\n",
       "      <td>0.858557</td>\n",
       "      <td>-0.161156</td>\n",
       "      <td>0.014861</td>\n",
       "      <td>0.111736</td>\n",
       "      <td>0.138865</td>\n",
       "      <td>0.188746</td>\n",
       "      <td>0.234917</td>\n",
       "      <td>...</td>\n",
       "      <td>-0.449730</td>\n",
       "      <td>-0.417188</td>\n",
       "      <td>-0.391630</td>\n",
       "      <td>-0.250292</td>\n",
       "      <td>-0.191887</td>\n",
       "      <td>-0.240005</td>\n",
       "      <td>-0.244230</td>\n",
       "      <td>-0.248683</td>\n",
       "      <td>-0.012122</td>\n",
       "      <td>0</td>\n",
       "    </tr>\n",
       "    <tr>\n",
       "      <th>3</th>\n",
       "      <td>-0.905498</td>\n",
       "      <td>0.810161</td>\n",
       "      <td>0.185828</td>\n",
       "      <td>-1.057295</td>\n",
       "      <td>0.164303</td>\n",
       "      <td>0.014861</td>\n",
       "      <td>0.111736</td>\n",
       "      <td>0.138865</td>\n",
       "      <td>0.188746</td>\n",
       "      <td>0.234917</td>\n",
       "      <td>...</td>\n",
       "      <td>-0.232373</td>\n",
       "      <td>-0.186729</td>\n",
       "      <td>-0.156579</td>\n",
       "      <td>-0.221191</td>\n",
       "      <td>-0.169361</td>\n",
       "      <td>-0.228645</td>\n",
       "      <td>-0.237846</td>\n",
       "      <td>-0.244166</td>\n",
       "      <td>-0.237130</td>\n",
       "      <td>0</td>\n",
       "    </tr>\n",
       "    <tr>\n",
       "      <th>4</th>\n",
       "      <td>-0.905498</td>\n",
       "      <td>-1.234323</td>\n",
       "      <td>0.185828</td>\n",
       "      <td>-1.057295</td>\n",
       "      <td>2.334029</td>\n",
       "      <td>-0.874991</td>\n",
       "      <td>0.111736</td>\n",
       "      <td>-0.696663</td>\n",
       "      <td>0.188746</td>\n",
       "      <td>0.234917</td>\n",
       "      <td>...</td>\n",
       "      <td>-0.346997</td>\n",
       "      <td>-0.348137</td>\n",
       "      <td>-0.331482</td>\n",
       "      <td>-0.221191</td>\n",
       "      <td>1.335034</td>\n",
       "      <td>0.271165</td>\n",
       "      <td>0.266434</td>\n",
       "      <td>-0.269039</td>\n",
       "      <td>-0.255187</td>\n",
       "      <td>0</td>\n",
       "    </tr>\n",
       "  </tbody>\n",
       "</table>\n",
       "<p>5 rows × 24 columns</p>\n",
       "</div>"
      ],
      "text/plain": [
       "   LIMIT_BAL       SEX  EDUCATION  MARRIAGE       AGE     PAY_0     PAY_2  \\\n",
       "0  -1.136720  0.810161   0.185828 -1.057295 -1.246020  1.794564  1.782348   \n",
       "1  -0.365981  0.810161   0.185828  0.858557 -1.029047 -0.874991  1.782348   \n",
       "2  -0.597202  0.810161   0.185828  0.858557 -0.161156  0.014861  0.111736   \n",
       "3  -0.905498  0.810161   0.185828 -1.057295  0.164303  0.014861  0.111736   \n",
       "4  -0.905498 -1.234323   0.185828 -1.057295  2.334029 -0.874991  0.111736   \n",
       "\n",
       "      PAY_3     PAY_4     PAY_5             ...              BILL_AMT4  \\\n",
       "0 -0.696663 -0.666599 -1.530046             ...              -0.672497   \n",
       "1  0.138865  0.188746  0.234917             ...              -0.621636   \n",
       "2  0.138865  0.188746  0.234917             ...              -0.449730   \n",
       "3  0.138865  0.188746  0.234917             ...              -0.232373   \n",
       "4 -0.696663  0.188746  0.234917             ...              -0.346997   \n",
       "\n",
       "   BILL_AMT5  BILL_AMT6  PAY_AMT1  PAY_AMT2  PAY_AMT3  PAY_AMT4  PAY_AMT5  \\\n",
       "0  -0.663059  -0.652724 -0.341942 -0.227086 -0.296801 -0.308063 -0.314136   \n",
       "1  -0.606229  -0.597966 -0.341942 -0.213588 -0.240005 -0.244230 -0.314136   \n",
       "2  -0.417188  -0.391630 -0.250292 -0.191887 -0.240005 -0.244230 -0.248683   \n",
       "3  -0.186729  -0.156579 -0.221191 -0.169361 -0.228645 -0.237846 -0.244166   \n",
       "4  -0.348137  -0.331482 -0.221191  1.335034  0.271165  0.266434 -0.269039   \n",
       "\n",
       "   PAY_AMT6  default.payment.next.month  \n",
       "0 -0.293382                           1  \n",
       "1 -0.180878                           1  \n",
       "2 -0.012122                           0  \n",
       "3 -0.237130                           0  \n",
       "4 -0.255187                           0  \n",
       "\n",
       "[5 rows x 24 columns]"
      ]
     },
     "execution_count": 21,
     "metadata": {},
     "output_type": "execute_result"
    }
   ],
   "source": [
    "dataset.head()"
   ]
  },
  {
   "cell_type": "markdown",
   "metadata": {},
   "source": [
    "#### Podjela skupa podataka na \"dobre\" (default) i \"loše\" primjere"
   ]
  },
  {
   "cell_type": "code",
   "execution_count": 22,
   "metadata": {},
   "outputs": [
    {
     "name": "stdout",
     "output_type": "stream",
     "text": [
      "Dataset_good shape: (23364, 23)\n",
      "Dataset_bad shape: (6636, 23)\n",
      "Non-default rate: 0.7788\n",
      "Default rate: 0.2212\n"
     ]
    }
   ],
   "source": [
    "dataset_good = dataset[dataset['default.payment.next.month'] == 0]\n",
    "dataset_bad = dataset[dataset['default.payment.next.month'] == 1]\n",
    "del dataset_good['default.payment.next.month']\n",
    "del dataset_bad['default.payment.next.month']\n",
    "print(\"Dataset_good shape:\", dataset_good.shape)\n",
    "print(\"Dataset_bad shape:\", dataset_bad.shape)\n",
    "\n",
    "good_rate = 23364/30000\n",
    "bad_rate = 6636/30000\n",
    "print(\"Non-default rate:\", good_rate)\n",
    "print(\"Default rate:\", bad_rate)"
   ]
  },
  {
   "cell_type": "markdown",
   "metadata": {},
   "source": [
    "#### Stratificirana podjela - provjera koliko je potrebno \"dobrih\" i \"loših\" primjera u train i test setu. Sampliranje."
   ]
  },
  {
   "cell_type": "code",
   "execution_count": 24,
   "metadata": {},
   "outputs": [
    {
     "name": "stdout",
     "output_type": "stream",
     "text": [
      "Number of good clients for train: 15576\n",
      "Number of bad clients for train: 4424\n",
      "\n",
      "Number of good clients for test: 7788\n",
      "Number of bad clients for test: 2212\n",
      "(15576, 23) (7788, 23) (4424, 23) (2212, 23)\n"
     ]
    }
   ],
   "source": [
    "train_size = 20000\n",
    "test_size = 10000\n",
    "print(\"Number of good clients for train:\", round(train_size*good_rate))\n",
    "print(\"Number of bad clients for train:\", round(train_size*bad_rate))\n",
    "print(\"\\nNumber of good clients for test:\", round(test_size*good_rate))\n",
    "print(\"Number of bad clients for test:\", round(test_size*bad_rate))\n",
    "\n",
    "sampled_good_cre_train, sampled_good_cre_test = train_test_split(dataset_good, test_size=1/3)\n",
    "sampled_bad_cre_train, sampled_bad_cre_test = train_test_split(dataset_bad, test_size=1/3)\n",
    "print(sampled_good_cre_train.shape, sampled_good_cre_test.shape, sampled_bad_cre_train.shape, sampled_bad_cre_test.shape)"
   ]
  },
  {
   "cell_type": "markdown",
   "metadata": {},
   "source": [
    "## Neural Network"
   ]
  },
  {
   "cell_type": "markdown",
   "metadata": {},
   "source": [
    "<img src=\"nn.png\">"
   ]
  },
  {
   "cell_type": "code",
   "execution_count": 7,
   "metadata": {},
   "outputs": [],
   "source": [
    "def small_network(input_placeholder):\n",
    "    layer_1 = tf.layers.dense(input_placeholder, 70, tf.nn.relu, name=\"layer_1\", reuse=tf.AUTO_REUSE)\n",
    "    layer_2 = tf.layers.dense(layer_1, 60, tf.nn.relu, name=\"layer_2\", reuse=tf.AUTO_REUSE)\n",
    "    layer_3 = tf.layers.dense(layer_2, 40, tf.nn.relu, name=\"layer_3\", reuse=tf.AUTO_REUSE)\n",
    "    layer_4 = tf.layers.dense(layer_3, 30, tf.nn.relu, name=\"layer_4\", reuse=tf.AUTO_REUSE)\n",
    "    layer_5 = tf.layers.dense(layer_4, 15, tf.nn.relu, name=\"layer_5\", reuse=tf.AUTO_REUSE)\n",
    "    output = tf.layers.dense(layer_5, 1, name=\"output\", reuse=tf.AUTO_REUSE)\n",
    "    return output"
   ]
  },
  {
   "cell_type": "code",
   "execution_count": 8,
   "metadata": {},
   "outputs": [],
   "source": [
    "def plot_roc(y, out):\n",
    "    fpr, tpr, threshold = roc_curve(y, out)\n",
    "    roc_auc = auc(fpr, tpr)\n",
    "\n",
    "    plt.title('ROC')\n",
    "    plt.plot(fpr, tpr, 'b', label = 'AUC = %0.4f' % roc_auc)\n",
    "    plt.plot([0, 1], [0, 1],'r--')\n",
    "    plt.xlim([0, 1])\n",
    "    plt.ylim([0, 1])\n",
    "    plt.legend(loc = 'lower right')\n",
    "    plt.ylabel('True Positive Rate')\n",
    "    plt.xlabel('False Positive Rate')\n",
    "    plt.show()"
   ]
  },
  {
   "cell_type": "code",
   "execution_count": 9,
   "metadata": {},
   "outputs": [],
   "source": [
    "def metrics(y_out, y_test):\n",
    "    y_out = [o >= 0.5 for o in y_out]\n",
    "    print('\\nAccuracy score = ', accuracy_score(y_test, y_out))\n",
    "    print('Precision score = ', precision_score(y_test, y_out))\n",
    "    print('Recall score = ', recall_score(y_test, y_out))\n",
    "    print('F1 score = ', f1_score(y_test, y_out))"
   ]
  },
  {
   "cell_type": "code",
   "execution_count": 15,
   "metadata": {},
   "outputs": [],
   "source": [
    "def plot_loss(losses, num_epochs):\n",
    "    plt.title('Loss')\n",
    "    plt.plot(range(1,num_epochs+1),losses, 'b')\n",
    "    plt.xlim([0, num_epochs+1])\n",
    "    plt.ylim([0, 0.8])\n",
    "    plt.ylabel('Loss')\n",
    "    plt.xlabel('Epochs')\n",
    "    plt.show()"
   ]
  },
  {
   "cell_type": "markdown",
   "metadata": {},
   "source": [
    "### Train & test"
   ]
  },
  {
   "cell_type": "code",
   "execution_count": 25,
   "metadata": {},
   "outputs": [],
   "source": [
    "tf.reset_default_graph()\n",
    "num_features = sampled_good_cre_train.shape[1] #ili sampled_good_tit_train.shape[1]\n",
    "\n",
    "input_left = tf.placeholder(tf.float32, shape=[None, num_features*2])\n",
    "input_right = tf.concat([input_left[:, num_features:], input_left[:, :num_features]], axis=1)\n",
    "output = tf.placeholder(tf.float32, shape=[None,1])\n",
    "\n",
    "f_left = small_network(input_left)\n",
    "f_right = small_network(input_right)\n",
    "logit = f_left - f_right\n",
    "\n",
    "h = tf.sigmoid(logit)\n",
    "\n",
    "loss = tf.losses.sigmoid_cross_entropy(output, logit)\n",
    "lr = tf.placeholder(tf.float32, shape=[])\n",
    "train_op = tf.train.AdamOptimizer(learning_rate=lr, beta1=0.9, beta2=0.999).minimize(loss)"
   ]
  },
  {
   "cell_type": "code",
   "execution_count": 17,
   "metadata": {},
   "outputs": [],
   "source": [
    "def train_test(good_data, bad_data, num_epochs=25, l_rate = 0.001, num_batches=15):\n",
    "    bsize_good = len(good_data) // num_batches\n",
    "    bsize_bad = len(bad_data) // num_batches\n",
    "    losses = []\n",
    "    \n",
    "    for epoch in range(num_epochs):\n",
    "        total_loss = 0.0\n",
    "        good_data = shuffle(good_data)\n",
    "        bad_data = shuffle(bad_data)\n",
    "        \n",
    "        h_out = []\n",
    "        y = []\n",
    "            \n",
    "        for batch in range(num_batches):\n",
    "            y_ = []\n",
    "            h_o = []\n",
    "            minibatch = []\n",
    "\n",
    "            for i in range(batch * bsize_good, (batch + 1) * bsize_good):\n",
    "                for j in range(batch * bsize_bad, (batch + 1) * bsize_bad):\n",
    "                    g = good_data.iloc[i,:].reshape(1,-1)\n",
    "                    b = bad_data.iloc[j,:].reshape(1,-1)\n",
    "                    minibatch.append(np.concatenate((g, b), axis=None))\n",
    "                    minibatch.append(np.concatenate((b, g), axis=None))\n",
    "                    y_.extend([1,0])\n",
    "\n",
    "            y.extend(y_)\n",
    "            loss_, h_, _ = sess.run([loss, h, train_op], feed_dict={input_left: np.array(minibatch),\n",
    "                                                                    output: np.array(y_).reshape(-1,1),\n",
    "                                                                    lr: l_rate})\n",
    "            h_out.extend([hh[0] for hh in h_])\n",
    "            total_loss += loss_\n",
    "\n",
    "        print(\"Epoch {} / {}, Loss = {}\".format(epoch + 1, num_epochs, total_loss / num_batches))\n",
    "        losses.append(total_loss / num_batches)\n",
    "    return h_out, y, losses"
   ]
  },
  {
   "cell_type": "code",
   "execution_count": 18,
   "metadata": {
    "scrolled": false
   },
   "outputs": [
    {
     "name": "stdout",
     "output_type": "stream",
     "text": [
      "Training...\n",
      "Epoch 1 / 25, Loss = 0.5798678239186604\n",
      "Epoch 2 / 25, Loss = 0.4092308362325033\n",
      "Epoch 3 / 25, Loss = 0.3492324988047282\n",
      "Epoch 4 / 25, Loss = 0.33139943579832715\n",
      "Epoch 5 / 25, Loss = 0.33340013523896533\n",
      "Epoch 6 / 25, Loss = 0.3115519732236862\n",
      "Epoch 7 / 25, Loss = 0.3175459067026774\n",
      "Epoch 8 / 25, Loss = 0.3172015110651652\n",
      "Epoch 9 / 25, Loss = 0.3102011442184448\n",
      "Epoch 10 / 25, Loss = 0.3118891815344493\n",
      "Epoch 11 / 25, Loss = 0.29780841221412024\n",
      "Epoch 12 / 25, Loss = 0.2989668140808741\n",
      "Epoch 13 / 25, Loss = 0.292875408132871\n",
      "Epoch 14 / 25, Loss = 0.2887328177690506\n",
      "Epoch 15 / 25, Loss = 0.29223213096459705\n",
      "Epoch 16 / 25, Loss = 0.28910680214564005\n",
      "Epoch 17 / 25, Loss = 0.2942157775163651\n",
      "Epoch 18 / 25, Loss = 0.287120229502519\n",
      "Epoch 19 / 25, Loss = 0.27910334169864653\n",
      "Epoch 20 / 25, Loss = 0.28076679607232413\n",
      "Epoch 21 / 25, Loss = 0.274069611231486\n",
      "Epoch 22 / 25, Loss = 0.27361874183019\n",
      "Epoch 23 / 25, Loss = 0.27491488854090373\n",
      "Epoch 24 / 25, Loss = 0.2713438739379247\n",
      "Epoch 25 / 25, Loss = 0.2692693625887235\n",
      "\n",
      "Accuracy score =  0.8827317073170732\n",
      "Precision score =  0.8826819275541393\n",
      "Recall score =  0.8827967479674796\n",
      "F1 score =  0.8827393340270552\n"
     ]
    },
    {
     "data": {
      "image/png": "[encoded data removed]",
      "text/plain": [
       "<matplotlib.figure.Figure at 0x1d80f9adba8>"
      ]
     },
     "metadata": {},
     "output_type": "display_data"
    },
    {
     "name": "stdout",
     "output_type": "stream",
     "text": [
      "\n",
      "Testing...\n",
      "Epoch 1 / 1, Loss = 0.33403956654171146\n",
      "\n",
      "Accuracy score =  0.8583333333333333\n",
      "Precision score =  0.8580491673275178\n",
      "Recall score =  0.8587301587301587\n",
      "F1 score =  0.8583895279650932\n",
      "Area under curve = \t 0.9336341017888637\n"
     ]
    },
    {
     "data": {
      "image/png": "[encoded data removed]",
      "text/plain": [
       "<matplotlib.figure.Figure at 0x1d80fa6d5c0>"
      ]
     },
     "metadata": {},
     "output_type": "display_data"
    }
   ],
   "source": [
    "with tf.Session() as sess:\n",
    "    sess.run(tf.global_variables_initializer())\n",
    "    \n",
    "    print(\"Training...\")\n",
    "    out, y, losses = train_test(num_epochs=25, good_data = sampled_good_tit_train, bad_data = sampled_bad_tit_train)\n",
    "    metrics(out, y)\n",
    "    plot_loss(losses, num_epochs=25)\n",
    "    \n",
    "    print(\"\\nTesting...\")\n",
    "    out, y, losses = train_test(num_epochs=1, good_data=sampled_good_tit_test, bad_data=sampled_bad_tit_test)\n",
    "    metrics(out, y)\n",
    "    print('Area under curve = \\t', roc_auc_score(y_true=y, y_score=out))\n",
    "    plot_roc(y, out)"
   ]
  },
  {
   "cell_type": "code",
   "execution_count": 28,
   "metadata": {
    "scrolled": false
   },
   "outputs": [
    {
     "name": "stdout",
     "output_type": "stream",
     "text": [
      "Training...\n",
      "Epoch 1 / 50, Loss = 0.5132381139472127\n",
      "Epoch 2 / 50, Loss = 0.48153364892303946\n",
      "Epoch 3 / 50, Loss = 0.47325021533668044\n",
      "Epoch 4 / 50, Loss = 0.46751086067035796\n",
      "Epoch 5 / 50, Loss = 0.4602597905900329\n",
      "Epoch 6 / 50, Loss = 0.4615394671112299\n",
      "Epoch 7 / 50, Loss = 0.45548017067462204\n",
      "Epoch 8 / 50, Loss = 0.4521973257996142\n",
      "Epoch 9 / 50, Loss = 0.4481410579830408\n",
      "Epoch 10 / 50, Loss = 0.44678367603942754\n",
      "Epoch 11 / 50, Loss = 0.44329895166680217\n",
      "Epoch 12 / 50, Loss = 0.4428083058707416\n",
      "Epoch 13 / 50, Loss = 0.44197132569923997\n",
      "Epoch 14 / 50, Loss = 0.44037002154067156\n",
      "Epoch 15 / 50, Loss = 0.4371940031647682\n",
      "Epoch 16 / 50, Loss = 0.4323515800703317\n",
      "Epoch 17 / 50, Loss = 0.43211443510651587\n",
      "Epoch 18 / 50, Loss = 0.43346264884620905\n",
      "Epoch 19 / 50, Loss = 0.43452046273648737\n",
      "Epoch 20 / 50, Loss = 0.4258452397994697\n",
      "Epoch 21 / 50, Loss = 0.42432866848632694\n",
      "Epoch 22 / 50, Loss = 0.4189326133392751\n",
      "Epoch 23 / 50, Loss = 0.41601222070306537\n",
      "Epoch 24 / 50, Loss = 0.41304267567023634\n",
      "Epoch 25 / 50, Loss = 0.4102928558960557\n",
      "Epoch 26 / 50, Loss = 0.40674513558112085\n",
      "Epoch 27 / 50, Loss = 0.401790675971657\n",
      "Epoch 28 / 50, Loss = 0.4023510752208531\n",
      "Epoch 29 / 50, Loss = 0.39780700945481656\n",
      "Epoch 30 / 50, Loss = 0.3964995340369642\n",
      "Epoch 31 / 50, Loss = 0.3876556876003742\n",
      "Epoch 32 / 50, Loss = 0.3844066687487066\n",
      "Epoch 33 / 50, Loss = 0.3817531343298033\n",
      "Epoch 34 / 50, Loss = 0.3757851043269038\n",
      "Epoch 35 / 50, Loss = 0.3720044280439615\n",
      "Epoch 36 / 50, Loss = 0.36606560396403076\n",
      "Epoch 37 / 50, Loss = 0.3588818062283099\n",
      "Epoch 38 / 50, Loss = 0.3582194648552686\n",
      "Epoch 39 / 50, Loss = 0.3533006468582898\n",
      "Epoch 40 / 50, Loss = 0.34045786604098977\n",
      "Epoch 41 / 50, Loss = 0.3476734005250037\n",
      "Epoch 42 / 50, Loss = 0.3385694930497557\n",
      "Epoch 43 / 50, Loss = 0.33011473657004536\n",
      "Epoch 44 / 50, Loss = 0.3238876404222101\n",
      "Epoch 45 / 50, Loss = 0.31905075132660565\n",
      "Epoch 46 / 50, Loss = 0.32119130450021477\n",
      "Epoch 47 / 50, Loss = 0.3137038727160543\n",
      "Epoch 48 / 50, Loss = 0.3029499527551234\n",
      "Epoch 49 / 50, Loss = 0.3077080479450524\n",
      "Epoch 50 / 50, Loss = 0.3016647303514183\n",
      "\n",
      "Accuracy score =  0.8638833333333333\n",
      "Precision score =  0.8638833333333333\n",
      "Recall score =  0.8638833333333333\n",
      "F1 score =  0.8638833333333333\n"
     ]
    },
    {
     "data": {
      "image/png": "[encoded data removed]",
      "text/plain": [
       "<matplotlib.figure.Figure at 0x1d80f9af4e0>"
      ]
     },
     "metadata": {},
     "output_type": "display_data"
    },
    {
     "name": "stdout",
     "output_type": "stream",
     "text": [
      "\n",
      "Testing...\n",
      "Epoch 1 / 1, Loss = 0.5182324592620134\n",
      "\n",
      "Accuracy score =  0.7493571428571428\n",
      "Precision score =  0.7493571428571428\n",
      "Recall score =  0.7493571428571428\n",
      "F1 score =  0.7493571428571428\n",
      "Area under curve = \t 0.829525193877551\n"
     ]
    },
    {
     "data": {
      "image/png": "[encoded data removed]",
      "text/plain": [
       "<matplotlib.figure.Figure at 0x1d81a1d9898>"
      ]
     },
     "metadata": {},
     "output_type": "display_data"
    }
   ],
   "source": [
    "with tf.Session() as sess:\n",
    "    sess.run(tf.global_variables_initializer())\n",
    "    \n",
    "    print(\"Training...\")\n",
    "    out, y, losses = train_test(num_epochs = 50, num_batches = 1000, good_data = sampled_good_cre_train, bad_data = sampled_bad_cre_train)\n",
    "    metrics(out, y)\n",
    "    plot_loss(losses, num_epochs=50)\n",
    "    \n",
    "    print(\"\\nTesting...\")\n",
    "    out, y, losses = train_test(num_epochs=1, num_batches = 1000, good_data=sampled_good_cre_test, bad_data=sampled_bad_cre_test)\n",
    "    metrics(out, y)\n",
    "    print('Area under curve = \\t', roc_auc_score(y_true=y, y_score=out))\n",
    "    plot_roc(y, out)"
   ]
  }
 ],
 "metadata": {
  "kernelspec": {
   "display_name": "Python 3",
   "language": "python",
   "name": "python3"
  },
  "language_info": {
   "codemirror_mode": {
    "name": "ipython",
    "version": 3
   },
   "file_extension": ".py",
   "mimetype": "text/x-python",
   "name": "python",
   "nbconvert_exporter": "python",
   "pygments_lexer": "ipython3",
   "version": "3.5.5"
  }
 },
 "nbformat": 4,
 "nbformat_minor": 2
}
