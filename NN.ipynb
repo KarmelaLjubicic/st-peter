{
 "cells": [
  {
   "cell_type": "code",
   "execution_count": 1,
   "metadata": {},
   "outputs": [],
   "source": [
    "import warnings\n",
    "warnings.filterwarnings('ignore')\n",
    "from IPython.display import Image\n",
    "import util\n",
    "import tensorflow as tf\n",
    "import numpy as np\n",
    "from sklearn.metrics import *"
   ]
  },
  {
   "cell_type": "markdown",
   "metadata": {},
   "source": [
    "## Importing the data (students or titanic)"
   ]
  },
  {
   "cell_type": "markdown",
   "metadata": {},
   "source": [
    "### Students:"
   ]
  },
  {
   "cell_type": "code",
   "execution_count": 2,
   "metadata": {},
   "outputs": [
    {
     "name": "stdout",
     "output_type": "stream",
     "text": [
      "['math score', 'gender_female', 'gender_male', 'race/ethnicity_group A', 'race/ethnicity_group B', 'race/ethnicity_group C', 'race/ethnicity_group D', 'race/ethnicity_group E', \"parental_associate's degree\", \"parental_bachelor's degree\", 'parental_high school', \"parental_master's degree\", 'parental_some college', 'parental_some high school', 'lunch_free/reduced', 'lunch_standard', 'preparation_completed', 'preparation_none']\n",
      "18\n"
     ]
    }
   ],
   "source": [
    "import students\n",
    "dataset, both_sides = students.get_all()\n",
    "left_train, left_test, right_train, right_test, y_train, y_test = util.train_test(both_sides, 36, 72)"
   ]
  },
  {
   "cell_type": "markdown",
   "metadata": {},
   "source": [
    "### Titanic:"
   ]
  },
  {
   "cell_type": "code",
   "execution_count": 3,
   "metadata": {},
   "outputs": [
    {
     "name": "stdout",
     "output_type": "stream",
     "text": [
      "['pclass', 'survived', 'age', 'sibsp', 'parch', 'fare', 'sex_female', 'sex_male', 'embarked_C', 'embarked_Q', 'embarked_S']\n",
      "['pclass_x', 'age_x', 'sibsp_x', 'parch_x', 'fare_x', 'sex_female_x', 'sex_male_x', 'embarked_C_x', 'embarked_Q_x', 'embarked_S_x', 'pclass_y', 'age_y', 'sibsp_y', 'parch_y', 'fare_y', 'sex_female_y', 'sex_male_y', 'embarked_C_y', 'embarked_Q_y', 'embarked_S_y', 'embarked_S_x', 'pclass_y', 'age_y', 'sibsp_y', 'parch_y', 'fare_y', 'sex_female_y', 'sex_male_y', 'embarked_C_y', 'embarked_Q_y', 'embarked_S_y', 'pclass_x', 'age_x', 'sibsp_x', 'parch_x', 'fare_x', 'sex_female_x', 'sex_male_x', 'embarked_C_x', 'embarked_Q_x', 'first_better']\n"
     ]
    }
   ],
   "source": [
    "import titanic\n",
    "dataset, both_sides = titanic.get_all()\n",
    "left_train, left_test, right_train, right_test, y_train, y_test = util.train_test(both_sides, 18, 36)"
   ]
  },
  {
   "cell_type": "markdown",
   "metadata": {},
   "source": [
    "### Credit Card"
   ]
  },
  {
   "cell_type": "code",
   "execution_count": 2,
   "metadata": {},
   "outputs": [
    {
     "name": "stdout",
     "output_type": "stream",
     "text": [
      "['LIMIT_BAL', 'SEX', 'EDUCATION', 'MARRIAGE', 'AGE', 'PAY_0', 'PAY_2', 'PAY_3', 'PAY_4', 'PAY_5', 'PAY_6', 'BILL_AMT1', 'BILL_AMT2', 'BILL_AMT3', 'BILL_AMT4', 'BILL_AMT5', 'BILL_AMT6', 'PAY_AMT1', 'PAY_AMT2', 'PAY_AMT3', 'PAY_AMT4', 'PAY_AMT5', 'PAY_AMT6', 'default.payment.next.month']\n",
      "24\n",
      "['LIMIT_BAL', 'SEX', 'EDUCATION', 'MARRIAGE', 'AGE', 'PAY_0', 'PAY_2', 'PAY_3', 'PAY_4', 'PAY_5', 'PAY_6', 'BILL_AMT1', 'BILL_AMT2', 'BILL_AMT3', 'BILL_AMT4', 'BILL_AMT5', 'BILL_AMT6', 'PAY_AMT1', 'PAY_AMT2', 'PAY_AMT3', 'PAY_AMT4', 'PAY_AMT5', 'PAY_AMT6']\n",
      "23\n"
     ]
    }
   ],
   "source": [
    "import credit_card\n",
    "dataset, both_sides = credit_card.get_all()\n",
    "left_train, left_test, right_train, right_test, y_train, y_test = util.train_test(both_sides, 46, 92)"
   ]
  },
  {
   "cell_type": "code",
   "execution_count": 5,
   "metadata": {},
   "outputs": [
    {
     "data": {
      "text/html": [
       "<div>\n",
       "<style scoped>\n",
       "    .dataframe tbody tr th:only-of-type {\n",
       "        vertical-align: middle;\n",
       "    }\n",
       "\n",
       "    .dataframe tbody tr th {\n",
       "        vertical-align: top;\n",
       "    }\n",
       "\n",
       "    .dataframe thead th {\n",
       "        text-align: right;\n",
       "    }\n",
       "</style>\n",
       "<table border=\"1\" class=\"dataframe\">\n",
       "  <thead>\n",
       "    <tr style=\"text-align: right;\">\n",
       "      <th></th>\n",
       "      <th>pclass_x</th>\n",
       "      <th>age_x</th>\n",
       "      <th>sibsp_x</th>\n",
       "      <th>parch_x</th>\n",
       "      <th>fare_x</th>\n",
       "      <th>sex_female_x</th>\n",
       "      <th>sex_male_x</th>\n",
       "      <th>embarked_C_x</th>\n",
       "      <th>embarked_Q_x</th>\n",
       "      <th>embarked_S_x</th>\n",
       "      <th>...</th>\n",
       "      <th>pclass_x</th>\n",
       "      <th>age_x</th>\n",
       "      <th>sibsp_x</th>\n",
       "      <th>parch_x</th>\n",
       "      <th>fare_x</th>\n",
       "      <th>sex_female_x</th>\n",
       "      <th>sex_male_x</th>\n",
       "      <th>embarked_C_x</th>\n",
       "      <th>embarked_Q_x</th>\n",
       "      <th>first_better</th>\n",
       "    </tr>\n",
       "  </thead>\n",
       "  <tbody>\n",
       "    <tr>\n",
       "      <th>0</th>\n",
       "      <td>1</td>\n",
       "      <td>0.361142</td>\n",
       "      <td>0.0</td>\n",
       "      <td>0.0</td>\n",
       "      <td>0.412503</td>\n",
       "      <td>1.0</td>\n",
       "      <td>0</td>\n",
       "      <td>0</td>\n",
       "      <td>0</td>\n",
       "      <td>1</td>\n",
       "      <td>...</td>\n",
       "      <td>1.0</td>\n",
       "      <td>0.361142</td>\n",
       "      <td>0.0</td>\n",
       "      <td>0.0</td>\n",
       "      <td>0.412503</td>\n",
       "      <td>1</td>\n",
       "      <td>0</td>\n",
       "      <td>0</td>\n",
       "      <td>0</td>\n",
       "      <td>1</td>\n",
       "    </tr>\n",
       "    <tr>\n",
       "      <th>1</th>\n",
       "      <td>1</td>\n",
       "      <td>0.361142</td>\n",
       "      <td>0.0</td>\n",
       "      <td>0.0</td>\n",
       "      <td>0.412503</td>\n",
       "      <td>1.0</td>\n",
       "      <td>0</td>\n",
       "      <td>0</td>\n",
       "      <td>0</td>\n",
       "      <td>1</td>\n",
       "      <td>...</td>\n",
       "      <td>1.0</td>\n",
       "      <td>0.361142</td>\n",
       "      <td>0.0</td>\n",
       "      <td>0.0</td>\n",
       "      <td>0.412503</td>\n",
       "      <td>1</td>\n",
       "      <td>0</td>\n",
       "      <td>0</td>\n",
       "      <td>0</td>\n",
       "      <td>1</td>\n",
       "    </tr>\n",
       "    <tr>\n",
       "      <th>2</th>\n",
       "      <td>1</td>\n",
       "      <td>0.361142</td>\n",
       "      <td>0.0</td>\n",
       "      <td>0.0</td>\n",
       "      <td>0.412503</td>\n",
       "      <td>1.0</td>\n",
       "      <td>0</td>\n",
       "      <td>0</td>\n",
       "      <td>0</td>\n",
       "      <td>1</td>\n",
       "      <td>...</td>\n",
       "      <td>1.0</td>\n",
       "      <td>0.361142</td>\n",
       "      <td>0.0</td>\n",
       "      <td>0.0</td>\n",
       "      <td>0.412503</td>\n",
       "      <td>1</td>\n",
       "      <td>0</td>\n",
       "      <td>0</td>\n",
       "      <td>0</td>\n",
       "      <td>1</td>\n",
       "    </tr>\n",
       "    <tr>\n",
       "      <th>3</th>\n",
       "      <td>1</td>\n",
       "      <td>0.361142</td>\n",
       "      <td>0.0</td>\n",
       "      <td>0.0</td>\n",
       "      <td>0.412503</td>\n",
       "      <td>1.0</td>\n",
       "      <td>0</td>\n",
       "      <td>0</td>\n",
       "      <td>0</td>\n",
       "      <td>1</td>\n",
       "      <td>...</td>\n",
       "      <td>1.0</td>\n",
       "      <td>0.361142</td>\n",
       "      <td>0.0</td>\n",
       "      <td>0.0</td>\n",
       "      <td>0.412503</td>\n",
       "      <td>1</td>\n",
       "      <td>0</td>\n",
       "      <td>0</td>\n",
       "      <td>0</td>\n",
       "      <td>1</td>\n",
       "    </tr>\n",
       "    <tr>\n",
       "      <th>4</th>\n",
       "      <td>1</td>\n",
       "      <td>0.361142</td>\n",
       "      <td>0.0</td>\n",
       "      <td>0.0</td>\n",
       "      <td>0.412503</td>\n",
       "      <td>1.0</td>\n",
       "      <td>0</td>\n",
       "      <td>0</td>\n",
       "      <td>0</td>\n",
       "      <td>1</td>\n",
       "      <td>...</td>\n",
       "      <td>1.0</td>\n",
       "      <td>0.361142</td>\n",
       "      <td>0.0</td>\n",
       "      <td>0.0</td>\n",
       "      <td>0.412503</td>\n",
       "      <td>1</td>\n",
       "      <td>0</td>\n",
       "      <td>0</td>\n",
       "      <td>0</td>\n",
       "      <td>1</td>\n",
       "    </tr>\n",
       "  </tbody>\n",
       "</table>\n",
       "<p>5 rows × 41 columns</p>\n",
       "</div>"
      ],
      "text/plain": [
       "   pclass_x     age_x  sibsp_x  parch_x    fare_x  sex_female_x  sex_male_x  \\\n",
       "0         1  0.361142      0.0      0.0  0.412503           1.0           0   \n",
       "1         1  0.361142      0.0      0.0  0.412503           1.0           0   \n",
       "2         1  0.361142      0.0      0.0  0.412503           1.0           0   \n",
       "3         1  0.361142      0.0      0.0  0.412503           1.0           0   \n",
       "4         1  0.361142      0.0      0.0  0.412503           1.0           0   \n",
       "\n",
       "   embarked_C_x  embarked_Q_x  embarked_S_x      ...       pclass_x     age_x  \\\n",
       "0             0             0             1      ...            1.0  0.361142   \n",
       "1             0             0             1      ...            1.0  0.361142   \n",
       "2             0             0             1      ...            1.0  0.361142   \n",
       "3             0             0             1      ...            1.0  0.361142   \n",
       "4             0             0             1      ...            1.0  0.361142   \n",
       "\n",
       "   sibsp_x  parch_x    fare_x  sex_female_x  sex_male_x  embarked_C_x  \\\n",
       "0      0.0      0.0  0.412503             1           0             0   \n",
       "1      0.0      0.0  0.412503             1           0             0   \n",
       "2      0.0      0.0  0.412503             1           0             0   \n",
       "3      0.0      0.0  0.412503             1           0             0   \n",
       "4      0.0      0.0  0.412503             1           0             0   \n",
       "\n",
       "   embarked_Q_x  first_better  \n",
       "0             0             1  \n",
       "1             0             1  \n",
       "2             0             1  \n",
       "3             0             1  \n",
       "4             0             1  \n",
       "\n",
       "[5 rows x 41 columns]"
      ]
     },
     "execution_count": 5,
     "metadata": {},
     "output_type": "execute_result"
    }
   ],
   "source": [
    "both_sides.head()"
   ]
  },
  {
   "cell_type": "markdown",
   "metadata": {},
   "source": [
    "### Shapes of the chosen dataset and its subsets:"
   ]
  },
  {
   "cell_type": "code",
   "execution_count": 3,
   "metadata": {},
   "outputs": [
    {
     "name": "stdout",
     "output_type": "stream",
     "text": [
      "(5000, 24) (8619102, 93)\n",
      "(6895281, 46) (1723821, 46) (6895281, 46) (1723821, 46) (6895281, 1) (1723821, 1)\n"
     ]
    }
   ],
   "source": [
    "print(dataset.shape, both_sides.shape)\n",
    "print(left_train.shape, left_test.shape, right_train.shape, right_test.shape, y_train.shape, y_test.shape)"
   ]
  },
  {
   "cell_type": "markdown",
   "metadata": {},
   "source": [
    "## Neural Network"
   ]
  },
  {
   "cell_type": "code",
   "execution_count": 13,
   "metadata": {},
   "outputs": [
    {
     "data": {
      "image/png": "[encoded data removed]",
      "text/plain": [
       "<IPython.core.display.Image object>"
      ]
     },
     "execution_count": 13,
     "metadata": {},
     "output_type": "execute_result"
    }
   ],
   "source": [
    "Image(filename=\"nn.png\") "
   ]
  },
  {
   "cell_type": "code",
   "execution_count": 6,
   "metadata": {},
   "outputs": [],
   "source": [
    "def small_network(input_placeholder):\n",
    "    layer_1 = tf.layers.dense(input_placeholder, 70, tf.nn.relu, name=\"layer_1\", reuse=tf.AUTO_REUSE)\n",
    "    layer_2 = tf.layers.dense(layer_1, 60, tf.nn.relu, name=\"layer_2\", reuse=tf.AUTO_REUSE)\n",
    "    layer_3 = tf.layers.dense(layer_2, 40, tf.nn.relu, name=\"layer_3\", reuse=tf.AUTO_REUSE)\n",
    "    layer_4 = tf.layers.dense(layer_3, 30, tf.nn.relu, name=\"layer_4\", reuse=tf.AUTO_REUSE)\n",
    "    layer_5 = tf.layers.dense(layer_4, 15, tf.nn.relu, name=\"layer_5\", reuse=tf.AUTO_REUSE)\n",
    "    output = tf.layers.dense(layer_5, 1, name=\"output\", reuse=tf.AUTO_REUSE)\n",
    "    return output"
   ]
  },
  {
   "cell_type": "code",
   "execution_count": 7,
   "metadata": {},
   "outputs": [],
   "source": [
    "def metrics(y_out, y_test):\n",
    "    y_out[y_out >= 0.5] = 1\n",
    "    y_out[y_out < 0.5] = 0\n",
    "    \n",
    "    print('\\nAccuracy score = ', accuracy_score(y_test, y_out))\n",
    "    print('Accuracy score = ', precision_score(y_test, y_out))\n",
    "    print('Accuracy score = ', accuracy_score(y_test, y_out))\n",
    "    print('Area under curve = \\t', roc_auc_score(y_true= y_test, y_score=y_out))\n",
    "    print('F1 score = ', f1_score(y_test, y_out))"
   ]
  },
  {
   "cell_type": "code",
   "execution_count": 8,
   "metadata": {},
   "outputs": [],
   "source": [
    "tf.reset_default_graph()\n",
    "\n",
    "input_left = tf.placeholder(tf.float32, shape=[None, left_train.shape[1]])\n",
    "input_right = tf.placeholder(tf.float32, shape=[None, right_train.shape[1]])\n",
    "output = tf.placeholder(tf.float32, shape=[None, 1])\n",
    "\n",
    "f_left = small_network(input_left)\n",
    "f_right = small_network(input_right)\n",
    "logit = f_left - f_right\n",
    "h = tf.sigmoid(logit)\n",
    "\n",
    "loss = tf.losses.sigmoid_cross_entropy(output, logit)"
   ]
  },
  {
   "cell_type": "markdown",
   "metadata": {},
   "source": [
    "### Train & test"
   ]
  },
  {
   "cell_type": "code",
   "execution_count": 9,
   "metadata": {},
   "outputs": [],
   "source": [
    "def train_test(left_input, right_input, y, num_epochs, batch_size):\n",
    "    outputs = np.zeros([y.shape[0], 1])\n",
    "    h_ = np.zeros([y.shape[0], 1])\n",
    "    \n",
    "    lr = tf.placeholder(tf.float32)\n",
    "    train_op = tf.train.GradientDescentOptimizer(lr).minimize(loss)\n",
    "    num_batches = left_train.shape[0] // batch_size\n",
    "    \n",
    "    for epoch in range(num_epochs):\n",
    "        total_loss = 0.0\n",
    "        for batch in range(num_batches):\n",
    "            i = batch * batch_size\n",
    "            j = (batch + 1) * batch_size\n",
    "            \n",
    "            loss_, outputs[i:j], h_[i:j], _ = sess.run([loss, logit,h, train_op], feed_dict={input_left: left_input[i:j], \n",
    "                                                             input_right: right_input[i:j],\n",
    "                                                             output: y[i:j], lr: 0.1})\n",
    "            \n",
    "            total_loss += loss_\n",
    "        print(\"Epoch {} / {}, Loss = {}\".format(epoch + 1, num_epochs, total_loss / batch_size))\n",
    "        \n",
    "    return outputs, h_, left_input"
   ]
  },
  {
   "cell_type": "code",
   "execution_count": 10,
   "metadata": {
    "scrolled": true
   },
   "outputs": [
    {
     "name": "stdout",
     "output_type": "stream",
     "text": [
      "Training...\n",
      "Epoch 1 / 10, Loss = 3.284154748171568\n",
      "Epoch 2 / 10, Loss = 2.561913917258382\n",
      "Epoch 3 / 10, Loss = 1.73203788395226\n",
      "Epoch 4 / 10, Loss = 1.0474624878764152\n",
      "Epoch 5 / 10, Loss = 0.6539645501486957\n",
      "Epoch 6 / 10, Loss = 0.46552242211531847\n",
      "Epoch 7 / 10, Loss = 0.4224135537990369\n",
      "Epoch 8 / 10, Loss = 0.33773667745711283\n",
      "Epoch 9 / 10, Loss = 0.2887938786766026\n",
      "Epoch 10 / 10, Loss = 0.28737877816171387\n",
      "\n",
      "Accuracy score =  0.9851686972583134\n",
      "Accuracy score =  0.9905194968557147\n",
      "Accuracy score =  0.9851686972583134\n",
      "Area under curve = \t 0.9851693810940836\n",
      "F1 score =  0.9850892594436197\n",
      "\n",
      "Testing...\n",
      "Epoch 1 / 1, Loss = 0.06803865002142265\n",
      "\n",
      "Accuracy score =  0.9865125207315609\n",
      "Accuracy score =  0.9913572778473385\n",
      "Accuracy score =  0.9865125207315609\n",
      "Area under curve = \t 0.986510041297728\n",
      "F1 score =  0.9864387996150369\n"
     ]
    }
   ],
   "source": [
    "with tf.Session() as sess:\n",
    "    sess.run(tf.global_variables_initializer())\n",
    "    \n",
    "    print(\"Training...\")\n",
    "    y_out, h_out, left_in = train_test(left_train, right_train, y_train, 10, 1000) #1551\n",
    "    metrics(y_out, y_train)\n",
    "    \n",
    "    print(\"\\nTesting...\")\n",
    "    y_out, h_out, left_in = train_test(left_test, right_test, y_test, 1, 1000) #1433 #2347\n",
    "    metrics(y_out, y_test)"
   ]
  },
  {
   "cell_type": "markdown",
   "metadata": {},
   "source": [
    "### Ranking"
   ]
  },
  {
   "cell_type": "code",
   "execution_count": null,
   "metadata": {},
   "outputs": [],
   "source": [
    "# key = good student, value = set of bad students that are worse than key\n",
    "\n",
    "who_is_better = {}\n",
    "for i in range(len(y_out)):\n",
    "    index_first = left_in.iloc[i,22]\n",
    "    index_second = left_in.iloc[i,45]\n",
    "    \n",
    "    if(y_out[i] == 0):\n",
    "        if(index_second not in who_is_better.keys()):\n",
    "            who_is_better[index_second] = set()\n",
    "            \n",
    "        who_is_better[index_second].add(index_first)\n",
    "    else:\n",
    "        if(index_first not in who_is_better.keys()):\n",
    "            who_is_better[index_first] = set()\n",
    "            \n",
    "        who_is_better[index_first].add(index_second)"
   ]
  },
  {
   "cell_type": "code",
   "execution_count": null,
   "metadata": {},
   "outputs": [],
   "source": [
    "ranking = []\n",
    "unknown = []\n",
    "\n",
    "for i in range(len(dataset)):\n",
    "    index = len(ranking)\n",
    "    ins = True\n",
    "    for j in range(len(ranking)):\n",
    "        if(j in who_is_better[i]):\n",
    "            index = j\n",
    "            break\n",
    "        elif(i in who_is_better[ranking[j]]): # element u rankingu je bolji od razmatranog\n",
    "            ins = False\n",
    "            continue\n",
    "        else: #element u rankingu nije bolji od razmatranog, razmatrani dolazi prije elementa u rankingu\n",
    "            ins = False\n",
    "            unknown.append(i)\n",
    "            break\n",
    "            \n",
    "    if(ins): ranking.insert(index, i)\n",
    "    print(\"Ranking\", ranking)\n",
    "    print(\"Unknown\", unknown)"
   ]
  },
  {
   "cell_type": "code",
   "execution_count": null,
   "metadata": {},
   "outputs": [],
   "source": [
    "        \n",
    "'''for key, item in who_is_better.items():\n",
    "    if(len(ranking) == 0):\n",
    "        ranking.append(key)\n",
    "    else:\n",
    "        didnt_put = True\n",
    "        for i in range(len(ranking)):\n",
    "            if(ranking[i] in item):\n",
    "                ranking.insert(i, key)\n",
    "                didnt_put = False\n",
    "                break\n",
    "        if(didnt_put):\n",
    "            ranking.append(key)'''    "
   ]
  },
  {
   "cell_type": "code",
   "execution_count": null,
   "metadata": {},
   "outputs": [],
   "source": [
    "len(ranking)"
   ]
  },
  {
   "cell_type": "code",
   "execution_count": null,
   "metadata": {},
   "outputs": [],
   "source": [
    "print(len(who_is_better.keys()))"
   ]
  },
  {
   "cell_type": "code",
   "execution_count": null,
   "metadata": {},
   "outputs": [],
   "source": [
    "for i in range(len(ranking)):\n",
    "    print(\"Student ID: {}, final score: {}\".format(ranking[i], dataset.iloc[ranking[i],20]))"
   ]
  }
 ],
 "metadata": {
  "kernelspec": {
   "display_name": "Python 3",
   "language": "python",
   "name": "python3"
  },
  "language_info": {
   "codemirror_mode": {
    "name": "ipython",
    "version": 3
   },
   "file_extension": ".py",
   "mimetype": "text/x-python",
   "name": "python",
   "nbconvert_exporter": "python",
   "pygments_lexer": "ipython3",
   "version": "3.5.5"
  }
 },
 "nbformat": 4,
 "nbformat_minor": 2
}
