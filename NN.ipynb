{
 "cells": [
  {
   "cell_type": "code",
   "execution_count": 1,
   "metadata": {},
   "outputs": [],
   "source": [
    "import tensorflow as tf\n",
    "import pandas as pd\n",
    "from math import *\n",
    "import warnings\n",
    "warnings.filterwarnings('ignore')\n",
    "from sklearn.model_selection import train_test_split\n",
    "from IPython.display import Image"
   ]
  },
  {
   "cell_type": "markdown",
   "metadata": {},
   "source": [
    "### Preparing the data"
   ]
  },
  {
   "cell_type": "code",
   "execution_count": 2,
   "metadata": {},
   "outputs": [],
   "source": [
    "dataset = pd.read_csv(\"data\\StudentsPerformance.csv\")\n",
    "dataset = pd.get_dummies(dataset, \n",
    "               columns=[\"gender\", \"race/ethnicity\", \"parental level of education\", \"lunch\", \"test preparation course\"],\n",
    "               prefix=[\"gender\", \"race/ethnicity\", \"parental\", \"lunch\", \"preparation\"])\n",
    "dataset['final_score'] = dataset['math score'] + dataset['reading score'] + dataset['writing score']\n",
    "dataset['final_score'] = dataset.final_score.map(lambda x: ceil(x))\n",
    "dataset['pass'] = dataset.final_score.map(lambda x: 1 if x/3 > 70 else 0)\n",
    "\n",
    "dataset_good = dataset[dataset['pass'] == 1]\n",
    "dataset_bad = dataset[dataset['pass'] == 0]"
   ]
  },
  {
   "cell_type": "code",
   "execution_count": 3,
   "metadata": {},
   "outputs": [
    {
     "name": "stdout",
     "output_type": "stream",
     "text": [
      "(1000, 22) (447, 22) (553, 22)\n"
     ]
    }
   ],
   "source": [
    "print(dataset.shape, dataset_good.shape, dataset_bad.shape)"
   ]
  },
  {
   "cell_type": "markdown",
   "metadata": {},
   "source": [
    "### Merging good & bad inputs"
   ]
  },
  {
   "cell_type": "code",
   "execution_count": 4,
   "metadata": {},
   "outputs": [],
   "source": [
    "dataset_good['key'] = 0\n",
    "dataset_bad['key'] = 0\n",
    "df_1 = pd.merge(dataset_good, dataset_bad, on='key')\n",
    "del df_1['key']\n",
    "\n",
    "columns = df_1.columns.tolist()\n",
    "reversed_columns = columns[22:] + columns[:22]\n",
    "df_2 = df_1[reversed_columns]"
   ]
  },
  {
   "cell_type": "code",
   "execution_count": 5,
   "metadata": {},
   "outputs": [
    {
     "name": "stdout",
     "output_type": "stream",
     "text": [
      "(247191, 44) (247191, 44)\n"
     ]
    }
   ],
   "source": [
    "print(df_1.shape, df_2.shape)"
   ]
  },
  {
   "cell_type": "code",
   "execution_count": 6,
   "metadata": {},
   "outputs": [
    {
     "data": {
      "text/plain": [
       "['math score_x',\n",
       " 'reading score_x',\n",
       " 'writing score_x',\n",
       " 'gender_female_x',\n",
       " 'gender_male_x',\n",
       " 'race/ethnicity_group A_x',\n",
       " 'race/ethnicity_group B_x',\n",
       " 'race/ethnicity_group C_x',\n",
       " 'race/ethnicity_group D_x',\n",
       " 'race/ethnicity_group E_x',\n",
       " \"parental_associate's degree_x\",\n",
       " \"parental_bachelor's degree_x\",\n",
       " 'parental_high school_x',\n",
       " \"parental_master's degree_x\",\n",
       " 'parental_some college_x',\n",
       " 'parental_some high school_x',\n",
       " 'lunch_free/reduced_x',\n",
       " 'lunch_standard_x',\n",
       " 'preparation_completed_x',\n",
       " 'preparation_none_x',\n",
       " 'final_score_x',\n",
       " 'pass_x',\n",
       " 'math score_y',\n",
       " 'reading score_y',\n",
       " 'writing score_y',\n",
       " 'gender_female_y',\n",
       " 'gender_male_y',\n",
       " 'race/ethnicity_group A_y',\n",
       " 'race/ethnicity_group B_y',\n",
       " 'race/ethnicity_group C_y',\n",
       " 'race/ethnicity_group D_y',\n",
       " 'race/ethnicity_group E_y',\n",
       " \"parental_associate's degree_y\",\n",
       " \"parental_bachelor's degree_y\",\n",
       " 'parental_high school_y',\n",
       " \"parental_master's degree_y\",\n",
       " 'parental_some college_y',\n",
       " 'parental_some high school_y',\n",
       " 'lunch_free/reduced_y',\n",
       " 'lunch_standard_y',\n",
       " 'preparation_completed_y',\n",
       " 'preparation_none_y',\n",
       " 'final_score_y',\n",
       " 'pass_y']"
      ]
     },
     "execution_count": 6,
     "metadata": {},
     "output_type": "execute_result"
    }
   ],
   "source": [
    "list(df_1)"
   ]
  },
  {
   "cell_type": "code",
   "execution_count": 7,
   "metadata": {},
   "outputs": [],
   "source": [
    "#list(df_2)"
   ]
  },
  {
   "cell_type": "markdown",
   "metadata": {},
   "source": [
    "### Splitting train & test set"
   ]
  },
  {
   "cell_type": "code",
   "execution_count": 8,
   "metadata": {},
   "outputs": [
    {
     "data": {
      "text/plain": [
       "(494382, 89)"
      ]
     },
     "execution_count": 8,
     "metadata": {},
     "output_type": "execute_result"
    }
   ],
   "source": [
    "abba = pd.concat([df_1, df_2], axis=1, join_axes=[df_1.index])\n",
    "abba['first_better'] = 1\n",
    "\n",
    "baab = pd.concat([df_2, df_1], axis=1, join_axes=[df_2.index])\n",
    "baab['first_better'] = 0\n",
    "\n",
    "baab.columns = abba.columns\n",
    "both_sides = abba.append(baab, ignore_index=True)\n",
    "both_sides.shape"
   ]
  },
  {
   "cell_type": "code",
   "execution_count": 9,
   "metadata": {},
   "outputs": [
    {
     "name": "stdout",
     "output_type": "stream",
     "text": [
      "(395505, 44) (98877, 44) (395505, 44) (98877, 44) (395505, 1) (98877, 1)\n"
     ]
    }
   ],
   "source": [
    "train, test = train_test_split(both_sides, test_size=0.2)\n",
    "\n",
    "left_train = train.iloc[:,:44]\n",
    "left_test = test.iloc[:,:44]\n",
    "right_train = train.iloc[:,44:88]\n",
    "right_test = test.iloc[:,44:88]\n",
    "y_train = train.iloc[:,88].reshape(-1,1)\n",
    "y_test = test.iloc[:,88].reshape(-1,1)\n",
    "\n",
    "print(left_train.shape, left_test.shape, right_train.shape, right_test.shape, y_train.shape, y_test.shape)"
   ]
  },
  {
   "cell_type": "markdown",
   "metadata": {},
   "source": [
    "### Neural Network"
   ]
  },
  {
   "cell_type": "code",
   "execution_count": 10,
   "metadata": {},
   "outputs": [
    {
     "data": {
      "image/png": "[encoded data removed]",
      "text/plain": [
       "<IPython.core.display.Image object>"
      ]
     },
     "execution_count": 10,
     "metadata": {},
     "output_type": "execute_result"
    }
   ],
   "source": [
    "Image(filename=\"nn.png\") "
   ]
  },
  {
   "cell_type": "code",
   "execution_count": 11,
   "metadata": {},
   "outputs": [],
   "source": [
    "def small_network(input_placeholder):\n",
    "    layer_1 = tf.layers.dense(input_placeholder, 70, tf.nn.relu)\n",
    "    layer_2 = tf.layers.dense(layer_1, 60, tf.nn.relu)\n",
    "    layer_3 = tf.layers.dense(layer_2, 40, tf.nn.relu)\n",
    "    layer_4 = tf.layers.dense(layer_3, 30, tf.nn.relu)\n",
    "    layer_5 = tf.layers.dense(layer_4, 15, tf.nn.relu)\n",
    "    output = tf.layers.dense(layer_5, 1, tf.nn.sigmoid)\n",
    "    return output"
   ]
  },
  {
   "cell_type": "code",
   "execution_count": 12,
   "metadata": {},
   "outputs": [],
   "source": [
    "tf.reset_default_graph()\n",
    "input_left = tf.placeholder(tf.float32, shape=[None,left_train.shape[1]])\n",
    "input_right = tf.placeholder(tf.float32, shape=[None,right_train.shape[1]])\n",
    "output = tf.placeholder(tf.float32, shape=[None,1])\n",
    "\n",
    "f_left = small_network(input_left)\n",
    "f_right = small_network(input_right)\n",
    "h = f_left - f_right\n",
    "\n",
    "eps = 1e-11\n",
    "h_norm = tf.div(tf.subtract(h, tf.reduce_min(h)), tf.maximum(tf.subtract(tf.reduce_max(h), tf.reduce_min(h)), eps))\n",
    "loss = tf.losses.sigmoid_cross_entropy(output, h_norm)"
   ]
  },
  {
   "cell_type": "markdown",
   "metadata": {},
   "source": [
    "### Train"
   ]
  },
  {
   "cell_type": "code",
   "execution_count": 14,
   "metadata": {},
   "outputs": [
    {
     "name": "stdout",
     "output_type": "stream",
     "text": [
      "Epoch 1 / 10\n",
      "---Batch 0/255, batch loss 0.666188\n",
      "---Batch 50/255, batch loss 0.663584\n",
      "---Batch 100/255, batch loss 0.644989\n",
      "---Batch 150/255, batch loss 0.643649\n",
      "---Batch 200/255, batch loss 0.630418\n",
      "---Batch 250/255, batch loss 0.62014\n",
      "Epoch 2 / 10\n",
      "---Batch 0/255, batch loss 0.614769\n",
      "---Batch 50/255, batch loss 0.587751\n",
      "---Batch 100/255, batch loss 0.575278\n",
      "---Batch 150/255, batch loss 0.547948\n",
      "---Batch 200/255, batch loss 0.538277\n",
      "---Batch 250/255, batch loss 0.54037\n",
      "Epoch 3 / 10\n",
      "---Batch 0/255, batch loss 0.535745\n",
      "---Batch 50/255, batch loss 0.523627\n",
      "---Batch 100/255, batch loss 0.529294\n",
      "---Batch 150/255, batch loss 0.516509\n",
      "---Batch 200/255, batch loss 0.524416\n",
      "---Batch 250/255, batch loss 0.530551\n",
      "Epoch 4 / 10\n",
      "---Batch 0/255, batch loss 0.525953\n",
      "---Batch 50/255, batch loss 0.515824\n",
      "---Batch 100/255, batch loss 0.522774\n",
      "---Batch 150/255, batch loss 0.511473\n",
      "---Batch 200/255, batch loss 0.520042\n",
      "---Batch 250/255, batch loss 0.526992\n",
      "Epoch 5 / 10\n",
      "---Batch 0/255, batch loss 0.52243\n",
      "---Batch 50/255, batch loss 0.512959\n",
      "---Batch 100/255, batch loss 0.520327\n",
      "---Batch 150/255, batch loss 0.509523\n",
      "---Batch 200/255, batch loss 0.518323\n",
      "---Batch 250/255, batch loss 0.52546\n",
      "Epoch 6 / 10\n",
      "---Batch 0/255, batch loss 0.520973\n",
      "---Batch 50/255, batch loss 0.511683\n",
      "---Batch 100/255, batch loss 0.519107\n",
      "---Batch 150/255, batch loss 0.508444\n",
      "---Batch 200/255, batch loss 0.517278\n",
      "---Batch 250/255, batch loss 0.524525\n",
      "Epoch 7 / 10\n",
      "---Batch 0/255, batch loss 0.520052\n",
      "---Batch 50/255, batch loss 0.510843\n",
      "---Batch 100/255, batch loss 0.518293\n",
      "---Batch 150/255, batch loss 0.507694\n",
      "---Batch 200/255, batch loss 0.516516\n",
      "---Batch 250/255, batch loss 0.523838\n",
      "Epoch 8 / 10\n",
      "---Batch 0/255, batch loss 0.519362\n",
      "---Batch 50/255, batch loss 0.510198\n",
      "---Batch 100/255, batch loss 0.517659\n",
      "---Batch 150/255, batch loss 0.507084\n",
      "---Batch 200/255, batch loss 0.515891\n",
      "---Batch 250/255, batch loss 0.523274\n",
      "Epoch 9 / 10\n",
      "---Batch 0/255, batch loss 0.518793\n",
      "---Batch 50/255, batch loss 0.509654\n",
      "---Batch 100/255, batch loss 0.517119\n",
      "---Batch 150/255, batch loss 0.506553\n",
      "---Batch 200/255, batch loss 0.515353\n",
      "---Batch 250/255, batch loss 0.522781\n",
      "Epoch 10 / 10\n",
      "---Batch 0/255, batch loss 0.518299\n",
      "---Batch 50/255, batch loss 0.509174\n",
      "---Batch 100/255, batch loss 0.516643\n",
      "---Batch 150/255, batch loss 0.506089\n",
      "---Batch 200/255, batch loss 0.514892\n",
      "---Batch 250/255, batch loss 0.522343\n"
     ]
    }
   ],
   "source": [
    "lr = tf.placeholder(tf.float32)\n",
    "train_op = tf.train.GradientDescentOptimizer(lr).minimize(loss)\n",
    "num_epochs = 10\n",
    "batch_size = 1551\n",
    "num_batches = left_train.shape[0] // batch_size #255\n",
    "\n",
    "with tf.Session() as sess:\n",
    "    sess.run(tf.global_variables_initializer())\n",
    "    \n",
    "    for epoch in range(num_epochs):\n",
    "        print(\"Epoch {} / {}\".format(epoch + 1, num_epochs))\n",
    "\n",
    "        total_loss = 0.0\n",
    "        for batch in range(num_batches):\n",
    "            i = batch * batch_size\n",
    "            j = (batch + 1) * batch_size         \n",
    "            loss_, _ = sess.run([loss, train_op], feed_dict={input_left: left_train[i:j], input_right: right_train[i:j],\n",
    "                                                                 output: y_train[i:j], lr: 0.0001})\n",
    "            \n",
    "            if batch % 50 == 0:\n",
    "                print('---Batch %d/%d, batch loss %g' % (batch, num_batches, loss_))"
   ]
  },
  {
   "cell_type": "markdown",
   "metadata": {},
   "source": [
    "### Test"
   ]
  }
 ],
 "metadata": {
  "kernelspec": {
   "display_name": "Python 3",
   "language": "python",
   "name": "python3"
  },
  "language_info": {
   "codemirror_mode": {
    "name": "ipython",
    "version": 3
   },
   "file_extension": ".py",
   "mimetype": "text/x-python",
   "name": "python",
   "nbconvert_exporter": "python",
   "pygments_lexer": "ipython3",
   "version": "3.5.5"
  }
 },
 "nbformat": 4,
 "nbformat_minor": 2
}
